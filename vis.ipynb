{
 "cells": [
  {
   "cell_type": "code",
   "execution_count": 2,
   "metadata": {
    "collapsed": true
   },
   "outputs": [
    {
     "data": {
      "text/plain": "['ab_extra',\n 'ab_intra',\n 'abactinal',\n 'actinal',\n 'abandon',\n 'acquire',\n 'arrogate',\n 'embrace',\n 'engage',\n 'gain',\n 'join',\n 'maintain',\n 'retain',\n 'unite',\n 'abandonment',\n 'acquisition',\n 'abapical',\n 'apical',\n 'abase',\n 'exalt',\n 'extoll',\n 'abash',\n 'embolden',\n 'reassure',\n 'abate',\n 'augment',\n 'abaxial',\n 'adaxial',\n 'abbreviate',\n 'lengthen',\n 'abderian',\n 'agelastic',\n 'abducent',\n 'adducent',\n 'abduction',\n 'adduction',\n 'abductive',\n 'deduce',\n 'abductor',\n 'abductee',\n 'adductor',\n 'abideable',\n 'insupportable',\n 'intolerable',\n 'unabideable',\n 'unbearable',\n 'abience',\n 'adience',\n 'abient',\n 'adient',\n 'ability',\n 'inability',\n 'abiogenesis',\n 'biogenesis',\n 'transformism',\n 'abjectly',\n 'proudly',\n 'abjugate',\n 'adjugate',\n 'able',\n 'cane',\n 'cannot',\n 'disability',\n 'unable',\n 'abled',\n 'disabled',\n 'abluminal',\n 'adluminal',\n 'abnormal',\n 'normal',\n 'abnormality',\n 'normality',\n 'abolish',\n 'establish',\n 'abolition',\n 'establishment',\n 'aborad',\n 'orad',\n 'abortionist',\n 'anti_abortionist',\n 'about',\n 'precisely',\n 'above',\n 'below',\n 'above_average',\n 'below_average',\n 'above_fold',\n 'below_fold',\n 'below_scroll',\n 'above_mentioned',\n 'following',\n 'undermentioned',\n 'above_salt',\n 'below_salt',\n 'above_water',\n 'under_water',\n 'aboveground',\n 'belowground',\n 'underground',\n 'aboveness',\n 'belowness',\n 'abridgable',\n 'unabridgable',\n 'abrogate',\n 'fix',\n 'promulgate',\n 'abruptly_pinnate',\n 'imparipinnate',\n 'odd_pinnate',\n 'absence',\n 'existence',\n 'presence',\n 'absence_makes_heart_grow_fonder',\n 'long_absent_soon_forgotten',\n 'absent',\n 'present',\n 'absolute',\n 'conditional',\n 'relative',\n 'absolute_majority',\n 'plurality',\n 'relative_majority',\n 'absolute_music',\n 'program_music',\n 'absoluteness',\n 'conditionality',\n 'limitedness',\n 'relativity',\n 'absolutism',\n 'relativism',\n 'absolutist',\n 'relativist',\n 'absolvitor',\n 'condemnator',\n 'absonant',\n 'consonant',\n 'absorb',\n 'emit',\n 'abstract',\n 'applied',\n 'concrete',\n 'abstract_class',\n 'concrete_class',\n 'abstract_interface',\n 'concrete_interface',\n 'abstract_method',\n 'concrete_method',\n 'abstract_noun',\n 'concrete_noun',\n 'abstract_number',\n 'concrete_number',\n 'abstract_verb',\n 'concrete_verb',\n 'definite_verb',\n 'determinate_verb',\n 'abstraction',\n 'concretization',\n 'specialization',\n 'abstractness',\n 'concreteness',\n 'abundance',\n 'few',\n 'abundant',\n 'rare',\n 'scarce',\n 'ac',\n 'ad',\n 'dc',\n 'academically',\n 'non_academically',\n 'acapnia',\n 'hypercapnia',\n 'accelerate',\n 'decelerate',\n 'retard',\n 'acceleration',\n 'deceleration',\n 'accept',\n 'decline',\n 'deny',\n 'refuse',\n 'reject',\n 'acceptability',\n 'inacceptability',\n 'unacceptability',\n 'acceptable',\n 'inacceptable',\n 'unacceptable',\n 'accessible',\n 'inaccessible',\n 'accession',\n 'deaccession',\n 'accessor',\n 'mutator',\n 'accident',\n 'on_purpose',\n 'planned',\n 'purpose',\n 'accidentally',\n 'intentionally',\n 'acclivity',\n 'declivity',\n 'acclivous',\n 'declivous',\n 'accommodate',\n 'discommodate',\n 'accountable',\n 'unaccountable',\n 'accountably',\n 'irresponsibly',\n 'unaccountably',\n 'accretion',\n 'attrition',\n 'decay',\n 'erosion',\n 'accrue',\n 'amortize',\n 'accumulation',\n 'decumulation',\n 'accumulation_point',\n 'isolated_point',\n 'accuracy',\n 'inaccuracy',\n 'accurate',\n 'inaccurate',\n 'accurateness',\n 'inaccurateness',\n 'accusatorial',\n 'inquisitorial',\n 'acerebral',\n 'cerebral',\n 'achieved_status',\n 'ascribed_status',\n 'achiral',\n 'chiral',\n 'acholia',\n 'cholaemia',\n 'acid',\n 'alkaline',\n 'base',\n 'alkali',\n 'acidic',\n 'basic',\n 'acidification',\n 'basification',\n 'acidify',\n 'alkalify',\n 'basify',\n 'acidity',\n 'alkalinity',\n 'ack',\n 'nak',\n 'nack',\n 'acme',\n 'nadir',\n 'acoloutha',\n 'anacoloutha',\n 'acquit',\n 'condemn',\n 'acquittal',\n 'condemnation',\n 'conviction',\n 'acrimony',\n 'friendship',\n 'peace',\n 'acrogynous',\n 'anacrogynous',\n 'acronycal',\n 'cosmical',\n 'acropetal',\n 'basipetal',\n 'acrophase',\n 'bathyphase',\n 'trough',\n 'acrophobia',\n 'bathophobia',\n 'acrophyll',\n 'bathyphyll',\n 'acroscopic',\n 'basiscopic',\n 'across',\n 'crossword',\n 'crossword_down',\n 'down',\n 'parallel',\n 'across_variable',\n 'through_variable',\n 'act',\n 'be_real',\n 'do',\n 'do_nothing',\n 'nothing',\n 'real',\n 'actifan',\n 'passifan',\n 'action',\n 'inaction',\n 'actions_speak_louder_than_words',\n 'pen_is_mightier_than_sword',\n 'activate',\n 'deactivate',\n 'disactivate',\n 'active',\n 'inactive',\n 'active_duty',\n 'reserve',\n 'activity',\n 'inactivity',\n 'passivity',\n 'rest',\n 'actual',\n 'fake',\n 'fake_simulated',\n 'pretend',\n 'simulated',\n 'smaller',\n 'future',\n 'potential',\n 'actualization',\n 'deactualization',\n 'acute_toxicity',\n 'chronic_toxicity',\n 'acyanophilous',\n 'cyanophilous',\n 'acyclic',\n 'cyclic',\n 'bc',\n 'ad_hominem',\n 'ad_verecundiam',\n 'appeal_to_authority',\n 'ipse_dixit',\n 'adam_teasing',\n 'eve_teasing',\n 'adapical',\n 'adbasal',\n 'add',\n 'subtract',\n 'subtraction',\n 'take',\n 'take_away',\n 'remove',\n 'adder',\n 'addicting',\n 'nonaddictive',\n 'addictive',\n 'addition',\n 'reduction',\n 'additive',\n 'subtractive',\n 'addressable',\n 'unaddressable',\n 'addressee',\n 'sender',\n 'speaker',\n 'adept',\n 'inept',\n 'adequate',\n 'inadequate',\n 'adfix',\n 'infix',\n 'adhesion',\n 'cohesion',\n 'adiabatic',\n 'diabatic',\n 'nonadiabatic',\n 'adjacent',\n 'apart',\n 'adjectival_pronoun',\n 'substantival_pronoun',\n 'adjoining',\n 'separated',\n 'administrative',\n 'non_administrative',\n 'admire',\n 'despise',\n 'admissibility',\n 'inadmissibility',\n 'admissible',\n 'inadmissible',\n 'admit',\n 'admittable',\n 'unadmittable',\n 'adnate',\n 'connate',\n 'adonist',\n 'jehovist',\n 'adopt',\n 'biological',\n 'biological_child',\n 'birth',\n 'child',\n 'children',\n 'give',\n 'give_away',\n 'orphan',\n 'own',\n 'own_children',\n 'adoration',\n 'disdain',\n 'adore',\n 'adret',\n 'ubac',\n 'adroit',\n 'clumsy',\n 'maladroit',\n 'adsorbent',\n 'nonadsorbent',\n 'adsorption',\n 'desorption',\n 'adsorptive',\n 'nonadsorptive',\n 'adult',\n 'adulteration',\n 'purification',\n 'adulthood',\n 'childhood',\n 'adultish',\n 'childish',\n 'advance',\n 'backward',\n 'going',\n 'going_backward',\n 'late',\n 'late_payment',\n 'payment',\n 'retreat',\n 'advantage',\n 'con',\n 'handicap',\n 'disadvantage',\n 'advantageously',\n 'disadvantageously',\n 'advehent',\n 'revehent',\n 'adventure',\n 'boring',\n 'lazy',\n 'abstention',\n 'adventurous',\n 'nervous',\n 'safe',\n 'adverb',\n 'adjective',\n 'pronoun',\n 'adversarial',\n 'cooperative',\n 'adverse_effect',\n 'desired_effect',\n 'advertent',\n 'inadvertent',\n 'advisability',\n 'inadvisability',\n 'advisory',\n 'mandatory',\n 'aequihymeniiferous',\n 'inaequihymeniiferous',\n 'aerobic',\n 'anaerobic',\n 'aerobiosis',\n 'anaerobiosis',\n 'aerobiotic',\n 'nonaerobiotic',\n 'aerodyne',\n 'aerostat',\n 'aerophyte',\n 'anaerophyte',\n 'aesthetic',\n 'inaesthetic',\n 'unaesthetic',\n 'aesthetical',\n 'aestival',\n 'brumal',\n 'hibernal',\n 'aff',\n 'neg',\n 'affair',\n 'faithful',\n 'faithful_activity',\n 'fidelity',\n 'loyal',\n 'marriage',\n 'relationship',\n 'afferent',\n 'efferent',\n 'afferently',\n 'efferently',\n 'affinal',\n 'consanguine',\n 'affirm',\n 'affirmative',\n 'negative',\n 'affix',\n 'nonaffix',\n 'affluence',\n 'indigence',\n 'affluent',\n 'indigent',\n 'afford',\n 'expensive',\n 'too',\n 'too_expensive',\n 'affordable',\n 'afforest',\n 'deforest',\n 'afforestation',\n 'deforestation',\n 'aforementioned',\n 'aforesaid',\n 'aft',\n 'fore',\n 'after',\n 'before',\n 'afterbear',\n 'forebear',\n 'afterbeat',\n 'forebeat',\n 'afterbrain',\n 'forebrain',\n 'afterdeal',\n 'foredeal',\n 'aftergame',\n 'foregame',\n 'afterglow',\n 'foreglow',\n 'hangover',\n 'post_coital_tristesse',\n 'afterhand',\n 'beforehand',\n 'forehand',\n 'afterlife',\n 'forelife',\n 'aftermarket',\n 'oem',\n 'aftername',\n 'forename',\n 'afternoon',\n 'before_lunch',\n 'before_noon',\n 'evening',\n 'lunch',\n 'morning',\n 'noon',\n 'aftersee',\n 'foresee',\n 'afterset',\n 'foreset',\n 'aftershock',\n 'foreshock',\n 'aftersound',\n 'foresound',\n 'afterstroke',\n 'appoggiatura',\n 'aftertest',\n 'foretest',\n 'afterthinker',\n 'forethinker',\n 'afterward',\n 'afterwards',\n 'again',\n 'never',\n 'once',\n 'stop',\n 'stop_trying',\n 'trying',\n 'against',\n 'away',\n 'away_from',\n 'being',\n 'being_for',\n 'for',\n 'for_or',\n 'for_someone',\n 'someone',\n 'with',\n 'age',\n 'getting',\n 'getting_younger',\n 'grow',\n 'grow_young',\n 'human',\n 'human_years',\n 'number',\n 'number_years',\n 'old',\n 'years',\n 'young',\n 'younger',\n 'youth',\n 'agent',\n 'patient',\n 'aggravate',\n 'mitigate',\n 'aggregant',\n 'antiaggregant',\n 'aggregatable',\n 'unaggregatable',\n 'aggregate',\n 'segregate',\n 'aggregation',\n 'disgregation',\n 'aggression',\n 'nonaggression',\n 'aggressive',\n 'passive',\n 'agile',\n 'unagile',\n 'agitator',\n 'agitatee',\n 'agnate',\n 'enate',\n 'agnosis',\n 'gnosis',\n 'ago',\n 'agony',\n 'bliss',\n 'defeat',\n 'ecstasy',\n 'agrammatical',\n 'grammatical',\n 'agree',\n 'argue',\n 'disagreement',\n 'disagree',\n 'agree_with',\n 'disagree_with',\n 'agreement',\n 'dispute',\n 'agromania',\n 'agrophobia',\n 'ahead',\n 'behind',\n 'ahermatypic',\n 'hermatypic',\n 'ahle_hadith',\n 'ahle_quran',\n 'aibohphobia',\n 'ailihphilia',\n 'ailurophile',\n 'ailurophobe',\n 'ailurophilia',\n 'ailurophobia',\n 'galeophobia',\n 'ailurophilic',\n 'ailurophobic',\n 'aimful',\n 'aimless',\n 'aimfully',\n 'aimlessly',\n 'air',\n 'earth',\n 'fire',\n 'ground',\n 'land',\n 'vacuum',\n 'water',\n 'water_fire',\n 'airable',\n 'unairable',\n 'airside',\n 'landside',\n 'airworthiness',\n 'unairworthiness',\n 'airworthy',\n 'unflyable',\n 'alacrity',\n 'apathy',\n 'disinclination',\n 'hesitance',\n 'indifference',\n 'reluctance',\n 'albino',\n 'hypermelanistic',\n 'hypermelanoid',\n 'alcoholic',\n 'nonalcoholic',\n 'teetotaler',\n 'algebraic',\n 'transcendental',\n 'algebraic_number',\n 'transcendental_number',\n 'alien',\n 'alienable',\n 'inalienable',\n 'alikeness',\n 'unalikeness',\n 'aliovalent',\n 'isovalent',\n 'aliphatic',\n 'aromatic',\n 'aliquot',\n 'aliquant',\n 'alive',\n 'dead',\n 'aliyah',\n 'yerida',\n 'all',\n 'none',\n 'alleviable',\n 'unalleviable',\n 'alligator',\n 'crocodile',\n 'allo',\n 'auto',\n 'allocate',\n 'free',\n 'allocentric',\n 'autocentric',\n 'egocentric',\n 'idiocentric',\n 'self_absorbed',\n 'self_centered',\n 'selfish',\n 'allocentrism',\n 'autocentrism',\n 'allochthonous',\n 'autochthonous',\n 'alloerotic',\n 'analloerotic',\n 'alloeroticism',\n 'autoeroticism',\n 'allopoiesis',\n 'autopoiesis',\n 'allopolyploidy',\n 'autopolyploidy',\n 'allosexual',\n 'asexual',\n 'autosexual',\n 'heterosexual',\n 'isosexual',\n 'allospecific',\n 'conspecific',\n 'allow',\n 'forbid',\n 'permitted',\n 'prohibit',\n 'restrict',\n 'allowed',\n 'forbidden',\n 'prohibited',\n 'ally',\n 'enemy',\n 'almost',\n 'exact',\n 'alogical',\n 'logical',\n 'alone',\n 'crowd',\n 'crowded',\n 'in_crowd',\n 'many_people',\n 'others',\n 'people',\n 'together',\n 'with_others',\n 'with_people',\n 'with_someone',\n 'along',\n 'short',\n 'aloud',\n 'in_whisper',\n 'alphabet',\n 'already',\n 'yet',\n 'alt_left',\n 'alt_right',\n 'alterable',\n 'inalterable',\n 'unalterable',\n 'alternating_current',\n 'direct_current',\n 'although',\n 'because',\n 'altophobia',\n 'altrices',\n 'praecoces',\n 'altruism',\n 'egoism',\n 'altruist',\n 'egoist',\n 'altruistic',\n 'egoistic',\n 'misanthropic',\n 'altruistically',\n 'egoistically',\n 'misanthropically',\n 'selfishly',\n 'always',\n 'seldom',\n 'sometimes',\n 'sometimes_never',\n 'am',\n 'pm',\n 'amalgamate',\n 'separate',\n 'amateur',\n 'professional',\n 'amber',\n 'red',\n 'ambidextrous',\n 'ambilevous',\n 'ambisinistrous',\n 'ambiguate',\n 'disambiguate',\n 'ambiguation',\n 'disambiguation',\n 'ambiguity',\n 'unambiguity',\n 'ambiguous',\n 'precise',\n 'unambiguous',\n 'ameliorate',\n 'deteriorate',\n 'worsen',\n 'amelioratingly',\n 'deterioratingly',\n 'amelioration',\n 'deterioration',\n 'amenable',\n 'unamenable',\n 'american_quotation',\n 'british_quotation',\n 'logical_quotation',\n 'oxford_quotation',\n 'americanism',\n 'anti_americanism',\n 'briticism',\n 'amity',\n 'enemyship',\n 'enmity',\n 'hostility',\n 'ammiyya',\n 'fus_ha',\n 'among',\n 'between',\n 'amphichiral',\n 'amusable',\n 'unamusable',\n 'amusing',\n 'unamusing',\n 'an',\n 'the',\n 'ana',\n 'kata',\n 'anabasis',\n 'catabasis',\n 'katabasis',\n 'anabatic',\n 'katabatic',\n 'anabolic',\n 'catabolic',\n 'anadromous',\n 'catadromous',\n 'analog',\n 'digital',\n 'discrete',\n 'analog_to_digital_converter',\n 'digital_to_analog_converter',\n 'analogue',\n 'analysis',\n 'synthesis',\n 'analytic',\n 'contingent',\n 'analytic_philosophy',\n 'continental_philosophy',\n 'anaphor',\n 'logophor',\n 'anapodeictic',\n 'apodeictic',\n 'anaptyxis',\n 'excrescence',\n 'anarchist',\n 'archist',\n 'anarchy',\n 'nonanarchy',\n 'order',\n 'anasteemaphilia',\n 'anasteemaphobia',\n 'anatropous',\n 'orthotropous',\n 'anauxotelic',\n 'auxotelic',\n 'ancestor',\n 'descendant',\n 'ancient',\n 'new',\n 'modern',\n 'and',\n 'but',\n 'er',\n 'nand',\n 'andro',\n 'gyno',\n 'androcentrism',\n 'gynocentrism',\n 'androphobe',\n 'androphile',\n 'gynophobe',\n 'androphobia',\n 'androphilia',\n 'gynophobia',\n 'anelectric',\n 'idioelectric',\n 'anergy',\n 'exergy',\n 'free_energy',\n 'synergy',\n 'anger',\n 'calm',\n 'happiness',\n 'sweetness',\n 'angerless',\n 'angerful',\n 'angry',\n 'anglophile',\n 'anglophobe',\n 'anglophilia',\n 'anglophobia',\n 'anglophilic',\n 'anglophobic',\n 'angstful',\n 'angstless',\n 'angustimurate',\n 'latimurate',\n 'anhedral',\n 'euhedral',\n 'dihedral',\n 'anhysteretic',\n 'hysteretic',\n 'animal',\n 'bird',\n 'human_plants',\n 'man',\n 'mineral',\n 'mineral_vegetable',\n 'person',\n 'plant',\n 'plants',\n 'vegetable',\n 'vegetable_mineral',\n 'animalculism',\n 'ovism',\n 'animate',\n 'fixed',\n 'inanimate',\n 'static',\n 'animosity',\n 'anisodiametric',\n 'isodiametric',\n 'anisospore',\n 'isospore',\n 'anisosyllabic',\n 'isosyllabic',\n 'anisosyllabism',\n 'isosyllabism',\n 'anisotropic',\n 'isotropic',\n 'anisotropy',\n 'isotropy',\n 'aniṭ',\n 'seṭ',\n 'ankle',\n 'wrist',\n 'annex',\n 'annexable',\n 'separable',\n 'unannexable',\n 'annexation',\n 'separation',\n 'annihilate',\n 'create',\n 'annihilation',\n 'creation',\n 'generation',\n 'annihilative',\n 'creative',\n 'generative',\n 'anno_domini',\n 'before_christ',\n 'before_common_era',\n 'announcement',\n 'denounce',\n 'annoy',\n 'please',\n 'anode',\n 'cathode',\n 'anoikism',\n 'synoikism',\n 'anomotreme',\n 'nomotreme',\n 'anonymous',\n 'onymous',\n 'anopia',\n 'observance',\n 'sight',\n 'anosmic',\n 'hyperosmic',\n 'osmatic',\n 'another',\n 'one',\n 'anothermal',\n ...]"
     },
     "execution_count": 2,
     "metadata": {},
     "output_type": "execute_result"
    }
   ],
   "source": [
    "from data_loader import QAGNN_RawDataLoader\n",
    "import torch\n",
    "import json\n",
    "\n",
    "\n",
    "cfg = json.load(fp=open('config.json', 'r'))\n",
    "\n",
    "\n",
    "db = QAGNN_RawDataLoader(cfg['cp_emb_path'], cfg['train_stmt_path'], cfg['train_adj_path'],\n",
    "                         cfg['dev_stmt_path'], cfg['dev_adj_path'],\n",
    "                         cfg['test_stmt_path'], cfg['test_adj_path'],\n",
    "                         batch_size=cfg['batch_size'], lm_name=cfg['lm_name'],\n",
    "                         n_ntype=cfg['n_ntype'], n_etype=cfg['n_etype'],\n",
    "                         max_node_num=cfg['max_n_nodes'], max_seq_length=cfg['max_seq_len'])\n",
    "\n",
    "cp_names = open('data/cpnet/concept.txt', 'r').read().splitlines()\n",
    "cp_names"
   ]
  },
  {
   "cell_type": "code",
   "execution_count": 3,
   "outputs": [
    {
     "name": "stderr",
     "output_type": "stream",
     "text": [
      "100%|██████████| 1140/1140 [00:03<00:00, 325.88it/s]\n"
     ]
    },
    {
     "name": "stdout",
     "output_type": "stream",
     "text": [
      "| ori_adj_len: mu 119.20 sigma 93.49 | adj_len: 106.22 | prune_rate： 0.16 | qc_num: 7.38 | ac_num: 2.05 |\n"
     ]
    }
   ],
   "source": [
    "qad = db.test_qad\n",
    "\n"
   ],
   "metadata": {
    "collapsed": false,
    "pycharm": {
     "name": "#%%\n"
    }
   }
  },
  {
   "cell_type": "code",
   "execution_count": 4,
   "outputs": [],
   "source": [
    "i = 0\n",
    "qid = qad.qids[i]\n",
    "cp_ids = qad.node_concept_ids[i]\n",
    "cp_ids = cp_ids[1:] - 1\n",
    "\n",
    "# print([cp_names[j] for j in cp_ids])"
   ],
   "metadata": {
    "collapsed": false,
    "pycharm": {
     "name": "#%%\n"
    }
   }
  },
  {
   "cell_type": "code",
   "execution_count": 5,
   "outputs": [],
   "source": [
    "import json\n",
    "from pprint import pprint\n",
    "\n",
    "f = open('data/csqa/statement/test.statement.jsonl', 'r')\n",
    "stmts = [json.loads(jline) for jline in f.read().splitlines()]\n",
    "stmt = [s for s in stmts if s['id'] == qid][0]\n",
    "# pprint(stmt)"
   ],
   "metadata": {
    "collapsed": false,
    "pycharm": {
     "name": "#%%\n"
    }
   }
  },
  {
   "cell_type": "code",
   "execution_count": 6,
   "outputs": [
    {
     "name": "stderr",
     "output_type": "stream",
     "text": [
      "Some weights of the model checkpoint at roberta-large were not used when initializing RobertaModel: ['lm_head.layer_norm.weight', 'lm_head.dense.weight', 'lm_head.decoder.weight', 'lm_head.bias', 'lm_head.layer_norm.bias', 'lm_head.dense.bias']\n",
      "- This IS expected if you are initializing RobertaModel from the checkpoint of a model trained on another task or with another architecture (e.g. initializing a BertForSequenceClassification model from a BertForPreTraining model).\n",
      "- This IS NOT expected if you are initializing RobertaModel from the checkpoint of a model that you expect to be exactly identical (initializing a BertForSequenceClassification model from a BertForSequenceClassification model).\n"
     ]
    },
    {
     "name": "stdout",
     "output_type": "stream",
     "text": [
      "1024\n"
     ]
    }
   ],
   "source": [
    "from transformers import AutoModel\n",
    "lm = 'roberta-large'\n",
    "encoder = AutoModel.from_pretrained(lm, output_hidden_states=True)\n",
    "sent_dim = encoder.config.hidden_size\n",
    "print(sent_dim)"
   ],
   "metadata": {
    "collapsed": false,
    "pycharm": {
     "name": "#%%\n"
    }
   }
  },
  {
   "cell_type": "code",
   "execution_count": 12,
   "outputs": [
    {
     "name": "stdout",
     "output_type": "stream",
     "text": [
      "torch.Size([1, 128, 1024])\n"
     ]
    },
    {
     "data": {
      "text/plain": "tensor([[[ 0.0329,  0.0337,  0.0040,  ..., -0.0658,  0.0767,  0.0680],\n         [ 0.2004,  0.0547, -0.9675,  ..., -0.0487, -0.0216,  0.0416],\n         [ 0.2271,  0.1094, -0.1333,  ...,  0.6103, -0.1497,  0.0443],\n         ...,\n         [ 0.0329,  0.0337,  0.0040,  ..., -0.0658,  0.0767,  0.0680],\n         [ 0.0329,  0.0337,  0.0040,  ..., -0.0658,  0.0767,  0.0680],\n         [ 0.0329,  0.0337,  0.0040,  ..., -0.0658,  0.0767,  0.0680]]],\n       grad_fn=<NativeLayerNormBackward0>)"
     },
     "execution_count": 12,
     "metadata": {},
     "output_type": "execute_result"
    }
   ],
   "source": [
    "input_ids, attention_mask, token_type_ids, output_mask = [x[0:1] for x in qad.text_data]\n",
    "# print(input_ids)\n",
    "outputs = encoder(input_ids, token_type_ids=token_type_ids, attention_mask=attention_mask)\n",
    "\n",
    "all_hidden_states = outputs[-1]\n",
    "hidden_states = all_hidden_states[-1]\n",
    "\n",
    "print(hidden_states.size())\n",
    "hidden_states"
   ],
   "metadata": {
    "collapsed": false,
    "pycharm": {
     "name": "#%%\n"
    }
   }
  },
  {
   "cell_type": "code",
   "execution_count": 13,
   "outputs": [
    {
     "name": "stdout",
     "output_type": "stream",
     "text": [
      "tensor([[    0,   133,  1139,  3138,    21,    10,   543,  1331,    13,     5,\n",
      "           588, 10321,     6,    24,    21,   235,   220,     7,    10,   239,\n",
      "          1430,    99,   116,     2,     2, 10551,   709,     2,     0,     0,\n",
      "             0,     0,     0,     0,     0,     0,     0,     0,     0,     0,\n",
      "             0,     0,     0,     0,     0,     0,     0,     0,     0,     0,\n",
      "             0,     0,     0,     0,     0,     0,     0,     0,     0,     0,\n",
      "             0,     0,     0,     0,     0,     0,     0,     0,     0,     0,\n",
      "             0,     0,     0,     0,     0,     0,     0,     0,     0,     0,\n",
      "             0,     0,     0,     0,     0,     0,     0,     0,     0,     0,\n",
      "             0,     0,     0,     0,     0,     0,     0,     0,     0,     0,\n",
      "             0,     0,     0,     0,     0,     0,     0,     0,     0,     0,\n",
      "             0,     0,     0,     0,     0,     0,     0,     0,     0,     0,\n",
      "             0,     0,     0,     0,     0,     0,     0,     0]])\n"
     ]
    }
   ],
   "source": [
    "print(input_ids)"
   ],
   "metadata": {
    "collapsed": false,
    "pycharm": {
     "name": "#%%\n"
    }
   }
  },
  {
   "cell_type": "code",
   "execution_count": 14,
   "outputs": [
    {
     "name": "stdout",
     "output_type": "stream",
     "text": [
      "tensor([[1, 1, 1, 1, 1, 1, 1, 1, 1, 1, 1, 1, 1, 1, 1, 1, 1, 1, 1, 1, 1, 1, 1, 1,\n",
      "         1, 1, 1, 1, 0, 0, 0, 0, 0, 0, 0, 0, 0, 0, 0, 0, 0, 0, 0, 0, 0, 0, 0, 0,\n",
      "         0, 0, 0, 0, 0, 0, 0, 0, 0, 0, 0, 0, 0, 0, 0, 0, 0, 0, 0, 0, 0, 0, 0, 0,\n",
      "         0, 0, 0, 0, 0, 0, 0, 0, 0, 0, 0, 0, 0, 0, 0, 0, 0, 0, 0, 0, 0, 0, 0, 0,\n",
      "         0, 0, 0, 0, 0, 0, 0, 0, 0, 0, 0, 0, 0, 0, 0, 0, 0, 0, 0, 0, 0, 0, 0, 0,\n",
      "         0, 0, 0, 0, 0, 0, 0, 0]])\n"
     ]
    }
   ],
   "source": [
    "print(attention_mask)"
   ],
   "metadata": {
    "collapsed": false,
    "pycharm": {
     "name": "#%%\n"
    }
   }
  },
  {
   "cell_type": "code",
   "execution_count": 15,
   "outputs": [
    {
     "name": "stdout",
     "output_type": "stream",
     "text": [
      "tensor([[0, 0, 0, 0, 0, 0, 0, 0, 0, 0, 0, 0, 0, 0, 0, 0, 0, 0, 0, 0, 0, 0, 0, 0,\n",
      "         0, 0, 0, 0, 0, 0, 0, 0, 0, 0, 0, 0, 0, 0, 0, 0, 0, 0, 0, 0, 0, 0, 0, 0,\n",
      "         0, 0, 0, 0, 0, 0, 0, 0, 0, 0, 0, 0, 0, 0, 0, 0, 0, 0, 0, 0, 0, 0, 0, 0,\n",
      "         0, 0, 0, 0, 0, 0, 0, 0, 0, 0, 0, 0, 0, 0, 0, 0, 0, 0, 0, 0, 0, 0, 0, 0,\n",
      "         0, 0, 0, 0, 0, 0, 0, 0, 0, 0, 0, 0, 0, 0, 0, 0, 0, 0, 0, 0, 0, 0, 0, 0,\n",
      "         0, 0, 0, 0, 0, 0, 0, 0]])\n"
     ]
    }
   ],
   "source": [
    "print(token_type_ids)"
   ],
   "metadata": {
    "collapsed": false,
    "pycharm": {
     "name": "#%%\n"
    }
   }
  },
  {
   "cell_type": "code",
   "execution_count": 16,
   "outputs": [
    {
     "name": "stdout",
     "output_type": "stream",
     "text": [
      "tensor([[ True, False, False, False, False, False, False, False, False, False,\n",
      "         False, False, False, False, False, False, False, False, False, False,\n",
      "         False, False, False,  True,  True, False, False,  True,  True,  True,\n",
      "          True,  True,  True,  True,  True,  True,  True,  True,  True,  True,\n",
      "          True,  True,  True,  True,  True,  True,  True,  True,  True,  True,\n",
      "          True,  True,  True,  True,  True,  True,  True,  True,  True,  True,\n",
      "          True,  True,  True,  True,  True,  True,  True,  True,  True,  True,\n",
      "          True,  True,  True,  True,  True,  True,  True,  True,  True,  True,\n",
      "          True,  True,  True,  True,  True,  True,  True,  True,  True,  True,\n",
      "          True,  True,  True,  True,  True,  True,  True,  True,  True,  True,\n",
      "          True,  True,  True,  True,  True,  True,  True,  True,  True,  True,\n",
      "          True,  True,  True,  True,  True,  True,  True,  True,  True,  True,\n",
      "          True,  True,  True,  True,  True,  True,  True,  True]])\n"
     ]
    }
   ],
   "source": [
    "print(output_mask)"
   ],
   "metadata": {
    "collapsed": false,
    "pycharm": {
     "name": "#%%\n"
    }
   }
  }
 ],
 "metadata": {
  "kernelspec": {
   "display_name": "Python 3",
   "language": "python",
   "name": "python3"
  },
  "language_info": {
   "codemirror_mode": {
    "name": "ipython",
    "version": 2
   },
   "file_extension": ".py",
   "mimetype": "text/x-python",
   "name": "python",
   "nbconvert_exporter": "python",
   "pygments_lexer": "ipython2",
   "version": "2.7.6"
  }
 },
 "nbformat": 4,
 "nbformat_minor": 0
}